{
 "cells": [
  {
   "cell_type": "markdown",
   "metadata": {},
   "source": [
    "Igor Hołowacz, Justyna Baczyńska"
   ]
  },
  {
   "cell_type": "code",
   "execution_count": 2,
   "metadata": {},
   "outputs": [],
   "source": [
    "import time\n",
    "import numpy as np\n",
    "import matplotlib.pyplot as plt\n",
    "import random\n",
    "import ctypes\n",
    "from collections import deque\n",
    "from math import factorial"
   ]
  },
  {
   "cell_type": "markdown",
   "metadata": {},
   "source": [
    "Zad. 1"
   ]
  },
  {
   "cell_type": "code",
   "execution_count": 3,
   "metadata": {},
   "outputs": [],
   "source": [
    "class Empty(Exception):\n",
    "    pass\n",
    "\n",
    "class DynamicArray:\n",
    "    def __init__(self):\n",
    "        self._n = 0 #liczba elementów\n",
    "        self._capacity = 1 #rozmiar tablicy\n",
    "        self._A = self._make_array(self._capacity) #właściwa tablica\n",
    "        \n",
    "    def __len__(self):\n",
    "        return self._n\n",
    "    \n",
    "    def __getitem__(self,k):\n",
    "        if not 0 <= k < self._n:\n",
    "            raise IndexError('invalid index')\n",
    "        return self._A[k]\n",
    "    \n",
    "    def append(self,obj):\n",
    "        if self._n == self._capacity:\n",
    "            self._resize(2*self._capacity)\n",
    "        self._A[self._n] = obj\n",
    "        self._n += 1\n",
    "        \n",
    "    def _resize(self,c):\n",
    "        B = self._make_array(c)\n",
    "        for k in range(self._n):\n",
    "            B[k] = self._A[k]\n",
    "        self._A = B\n",
    "        self._capacity = c\n",
    "        \n",
    "    def _make_array(self,c):\n",
    "        return (c*ctypes.py_object)()\n",
    "    \n",
    "    def insert(self,index,value):\n",
    "        if index<0 or index>self._n:\n",
    "            raise IndexError(\"Index out of range\")\n",
    "\n",
    "        if self._n == self._capacity:\n",
    "            self._resize(2*self._capacity)\n",
    "        \n",
    "        for i in range (self._n-1,index-1,-1):\n",
    "            self._A[i+1] = self._A[i]\n",
    "\n",
    "        self._A[index] = value\n",
    "        self._n+=1\n",
    "\n",
    "    def remove(self,value):\n",
    "        if self._n == 0:\n",
    "            raise Empty(\"Dynamic array is empty\")\n",
    "        i=0\n",
    "        found_value = False\n",
    "        while i<self._n and not(found_value):\n",
    "            if self._A[i]==value:\n",
    "                found_value = True\n",
    "            else:\n",
    "                i+=1\n",
    "        if found_value:\n",
    "            for j in range(i,self._n-1):\n",
    "                self._A[j]=self._A[j+1]\n",
    "            self._A[self._n-1]=None\n",
    "            self._n-=1\n",
    "        else:\n",
    "            raise ValueError(\"No such value in Dynamic Array\")\n",
    "    def expand(self,seq):\n",
    "        for obj in seq:\n",
    "            self.append(obj)\n",
    "\n",
    "    def __str__(self):\n",
    "        represent = \"{:\"\n",
    "        for i in range(self._n):\n",
    "            represent+=f\":{self._A[i]}:\"\n",
    "        represent+=\":}\"\n",
    "        return(represent)"
   ]
  },
  {
   "cell_type": "code",
   "execution_count": 64,
   "metadata": {},
   "outputs": [
    {
     "name": "stdout",
     "output_type": "stream",
     "text": [
      "5\n",
      "2\n",
      "{::2::10::3::4::}\n"
     ]
    }
   ],
   "source": [
    "A = DynamicArray()\n",
    "A.append(1)\n",
    "A.expand([2,3,4])\n",
    "A.insert(2,10)\n",
    "print(len(A))\n",
    "print(A[1])\n",
    "A.remove(1)\n",
    "print(A)"
   ]
  },
  {
   "cell_type": "code",
   "execution_count": 4,
   "metadata": {},
   "outputs": [
    {
     "ename": "Empty",
     "evalue": "Dynamic array is empty",
     "output_type": "error",
     "traceback": [
      "\u001b[1;31m---------------------------------------------------------------------------\u001b[0m",
      "\u001b[1;31mEmpty\u001b[0m                                     Traceback (most recent call last)",
      "\u001b[1;32mc:\\Users\\igorh\\algorytmy i struktury danych\\lista3.ipynb Komórka 6\u001b[0m in \u001b[0;36m<cell line: 2>\u001b[1;34m()\u001b[0m\n\u001b[0;32m      <a href='vscode-notebook-cell:/c%3A/Users/igorh/algorytmy%20i%20struktury%20danych/lista3.ipynb#X45sZmlsZQ%3D%3D?line=0'>1</a>\u001b[0m B\u001b[39m=\u001b[39mDynamicArray()\n\u001b[1;32m----> <a href='vscode-notebook-cell:/c%3A/Users/igorh/algorytmy%20i%20struktury%20danych/lista3.ipynb#X45sZmlsZQ%3D%3D?line=1'>2</a>\u001b[0m B\u001b[39m.\u001b[39;49mremove(\u001b[39m0\u001b[39;49m)\n",
      "\u001b[1;32mc:\\Users\\igorh\\algorytmy i struktury danych\\lista3.ipynb Komórka 6\u001b[0m in \u001b[0;36mDynamicArray.remove\u001b[1;34m(self, value)\u001b[0m\n\u001b[0;32m     <a href='vscode-notebook-cell:/c%3A/Users/igorh/algorytmy%20i%20struktury%20danych/lista3.ipynb#X45sZmlsZQ%3D%3D?line=46'>47</a>\u001b[0m \u001b[39mdef\u001b[39;00m \u001b[39mremove\u001b[39m(\u001b[39mself\u001b[39m,value):\n\u001b[0;32m     <a href='vscode-notebook-cell:/c%3A/Users/igorh/algorytmy%20i%20struktury%20danych/lista3.ipynb#X45sZmlsZQ%3D%3D?line=47'>48</a>\u001b[0m     \u001b[39mif\u001b[39;00m \u001b[39mself\u001b[39m\u001b[39m.\u001b[39m_n \u001b[39m==\u001b[39m \u001b[39m0\u001b[39m:\n\u001b[1;32m---> <a href='vscode-notebook-cell:/c%3A/Users/igorh/algorytmy%20i%20struktury%20danych/lista3.ipynb#X45sZmlsZQ%3D%3D?line=48'>49</a>\u001b[0m         \u001b[39mraise\u001b[39;00m Empty(\u001b[39m\"\u001b[39m\u001b[39mDynamic array is empty\u001b[39m\u001b[39m\"\u001b[39m)\n\u001b[0;32m     <a href='vscode-notebook-cell:/c%3A/Users/igorh/algorytmy%20i%20struktury%20danych/lista3.ipynb#X45sZmlsZQ%3D%3D?line=49'>50</a>\u001b[0m     i\u001b[39m=\u001b[39m\u001b[39m0\u001b[39m\n\u001b[0;32m     <a href='vscode-notebook-cell:/c%3A/Users/igorh/algorytmy%20i%20struktury%20danych/lista3.ipynb#X45sZmlsZQ%3D%3D?line=50'>51</a>\u001b[0m     found_value \u001b[39m=\u001b[39m \u001b[39mFalse\u001b[39;00m\n",
      "\u001b[1;31mEmpty\u001b[0m: Dynamic array is empty"
     ]
    }
   ],
   "source": [
    "B=DynamicArray()\n",
    "B.remove(0)"
   ]
  },
  {
   "cell_type": "code",
   "execution_count": 5,
   "metadata": {},
   "outputs": [
    {
     "ename": "ValueError",
     "evalue": "No such value in Dynamic Array",
     "output_type": "error",
     "traceback": [
      "\u001b[1;31m---------------------------------------------------------------------------\u001b[0m",
      "\u001b[1;31mValueError\u001b[0m                                Traceback (most recent call last)",
      "\u001b[1;32mc:\\Users\\igorh\\algorytmy i struktury danych\\lista3.ipynb Komórka 7\u001b[0m in \u001b[0;36m<cell line: 3>\u001b[1;34m()\u001b[0m\n\u001b[0;32m      <a href='vscode-notebook-cell:/c%3A/Users/igorh/algorytmy%20i%20struktury%20danych/lista3.ipynb#X46sZmlsZQ%3D%3D?line=0'>1</a>\u001b[0m C\u001b[39m=\u001b[39mDynamicArray()\n\u001b[0;32m      <a href='vscode-notebook-cell:/c%3A/Users/igorh/algorytmy%20i%20struktury%20danych/lista3.ipynb#X46sZmlsZQ%3D%3D?line=1'>2</a>\u001b[0m C\u001b[39m.\u001b[39mexpand([\u001b[39m1\u001b[39m,\u001b[39m2\u001b[39m])\n\u001b[1;32m----> <a href='vscode-notebook-cell:/c%3A/Users/igorh/algorytmy%20i%20struktury%20danych/lista3.ipynb#X46sZmlsZQ%3D%3D?line=2'>3</a>\u001b[0m C\u001b[39m.\u001b[39;49mremove(\u001b[39m3\u001b[39;49m)\n",
      "\u001b[1;32mc:\\Users\\igorh\\algorytmy i struktury danych\\lista3.ipynb Komórka 7\u001b[0m in \u001b[0;36mDynamicArray.remove\u001b[1;34m(self, value)\u001b[0m\n\u001b[0;32m     <a href='vscode-notebook-cell:/c%3A/Users/igorh/algorytmy%20i%20struktury%20danych/lista3.ipynb#X46sZmlsZQ%3D%3D?line=60'>61</a>\u001b[0m     \u001b[39mself\u001b[39m\u001b[39m.\u001b[39m_n\u001b[39m-\u001b[39m\u001b[39m=\u001b[39m\u001b[39m1\u001b[39m\n\u001b[0;32m     <a href='vscode-notebook-cell:/c%3A/Users/igorh/algorytmy%20i%20struktury%20danych/lista3.ipynb#X46sZmlsZQ%3D%3D?line=61'>62</a>\u001b[0m \u001b[39melse\u001b[39;00m:\n\u001b[1;32m---> <a href='vscode-notebook-cell:/c%3A/Users/igorh/algorytmy%20i%20struktury%20danych/lista3.ipynb#X46sZmlsZQ%3D%3D?line=62'>63</a>\u001b[0m     \u001b[39mraise\u001b[39;00m \u001b[39mValueError\u001b[39;00m(\u001b[39m\"\u001b[39m\u001b[39mNo such value in Dynamic Array\u001b[39m\u001b[39m\"\u001b[39m)\n",
      "\u001b[1;31mValueError\u001b[0m: No such value in Dynamic Array"
     ]
    }
   ],
   "source": [
    "C=DynamicArray()\n",
    "C.expand([1,2])\n",
    "C.remove(3)"
   ]
  },
  {
   "cell_type": "markdown",
   "metadata": {},
   "source": [
    "zad. 2"
   ]
  },
  {
   "cell_type": "code",
   "execution_count": 59,
   "metadata": {},
   "outputs": [
    {
     "data": {
      "image/png": "[encoded data removed]",
      "text/plain": [
       "<Figure size 432x288 with 1 Axes>"
      ]
     },
     "metadata": {
      "needs_background": "light"
     },
     "output_type": "display_data"
    }
   ],
   "source": [
    "n=[]\n",
    "times = []\n",
    "for i in range(0,40000,500):\n",
    "    arr = [0 for _ in range(80001)]\n",
    "    start = time.process_time()\n",
    "    for _ in range(0,40000): \n",
    "        arr.pop(i)\n",
    "    end = time.process_time()\n",
    "    n.append(i)\n",
    "    times.append(end-start)\n",
    "\n",
    "plt.scatter(n,times)\n",
    "plt.show()"
   ]
  },
  {
   "cell_type": "markdown",
   "metadata": {},
   "source": [
    "Zad. 3"
   ]
  },
  {
   "cell_type": "code",
   "execution_count": 4,
   "metadata": {},
   "outputs": [],
   "source": [
    "def sum_nxn(arr):\n",
    "    n=len(arr)\n",
    "    total = 0\n",
    "    for i in range(n):\n",
    "        if len(arr[i])==n:\n",
    "            total += sum(arr[i])\n",
    "        else:\n",
    "            raise ValueError(\"Array length mismatch\")\n",
    "    return total"
   ]
  },
  {
   "cell_type": "code",
   "execution_count": 5,
   "metadata": {},
   "outputs": [
    {
     "data": {
      "text/plain": [
       "10"
      ]
     },
     "execution_count": 5,
     "metadata": {},
     "output_type": "execute_result"
    }
   ],
   "source": [
    "sum_nxn([[1,2],[3,4]])"
   ]
  },
  {
   "cell_type": "code",
   "execution_count": 6,
   "metadata": {},
   "outputs": [
    {
     "ename": "ValueError",
     "evalue": "Array length mismatch",
     "output_type": "error",
     "traceback": [
      "\u001b[1;31m---------------------------------------------------------------------------\u001b[0m",
      "\u001b[1;31mValueError\u001b[0m                                Traceback (most recent call last)",
      "\u001b[1;32mc:\\Users\\igorh\\algorytmy i struktury danych\\lista3.ipynb Komórka 10\u001b[0m in \u001b[0;36m<cell line: 1>\u001b[1;34m()\u001b[0m\n\u001b[1;32m----> <a href='vscode-notebook-cell:/c%3A/Users/igorh/algorytmy%20i%20struktury%20danych/lista3.ipynb#X11sZmlsZQ%3D%3D?line=0'>1</a>\u001b[0m sum_nxn([[\u001b[39m1\u001b[39;49m,\u001b[39m2\u001b[39;49m],[\u001b[39m3\u001b[39;49m,\u001b[39m4\u001b[39;49m,\u001b[39m5\u001b[39;49m]])\n",
      "\u001b[1;32mc:\\Users\\igorh\\algorytmy i struktury danych\\lista3.ipynb Komórka 10\u001b[0m in \u001b[0;36msum_nxn\u001b[1;34m(arr)\u001b[0m\n\u001b[0;32m      <a href='vscode-notebook-cell:/c%3A/Users/igorh/algorytmy%20i%20struktury%20danych/lista3.ipynb#X11sZmlsZQ%3D%3D?line=5'>6</a>\u001b[0m         total \u001b[39m+\u001b[39m\u001b[39m=\u001b[39m \u001b[39msum\u001b[39m(arr[i])\n\u001b[0;32m      <a href='vscode-notebook-cell:/c%3A/Users/igorh/algorytmy%20i%20struktury%20danych/lista3.ipynb#X11sZmlsZQ%3D%3D?line=6'>7</a>\u001b[0m     \u001b[39melse\u001b[39;00m:\n\u001b[1;32m----> <a href='vscode-notebook-cell:/c%3A/Users/igorh/algorytmy%20i%20struktury%20danych/lista3.ipynb#X11sZmlsZQ%3D%3D?line=7'>8</a>\u001b[0m         \u001b[39mraise\u001b[39;00m \u001b[39mValueError\u001b[39;00m(\u001b[39m\"\u001b[39m\u001b[39mArray length mismatch\u001b[39m\u001b[39m\"\u001b[39m)\n\u001b[0;32m      <a href='vscode-notebook-cell:/c%3A/Users/igorh/algorytmy%20i%20struktury%20danych/lista3.ipynb#X11sZmlsZQ%3D%3D?line=8'>9</a>\u001b[0m \u001b[39mreturn\u001b[39;00m total\n",
      "\u001b[1;31mValueError\u001b[0m: Array length mismatch"
     ]
    }
   ],
   "source": [
    "sum_nxn([[1,2],[3,4,5]])"
   ]
  },
  {
   "cell_type": "markdown",
   "metadata": {},
   "source": [
    "Zad. 4"
   ]
  },
  {
   "cell_type": "code",
   "execution_count": 64,
   "metadata": {},
   "outputs": [
    {
     "data": {
      "image/png": "[encoded data removed]",
      "text/plain": [
       "<Figure size 432x288 with 1 Axes>"
      ]
     },
     "metadata": {
      "needs_background": "light"
     },
     "output_type": "display_data"
    }
   ],
   "source": [
    "def time_extend(elements):\n",
    "    c = [1 for i in range(elements)]\n",
    "    lista = []\n",
    "    start = time.time()\n",
    "    lista.extend(c)\n",
    "    end = time.time()\n",
    "    return end-start\n",
    "\n",
    "def time_append(elements):\n",
    "    lista = []\n",
    "    start = time.time()\n",
    "    for item in range(elements):\n",
    "        lista.append(1)\n",
    "    end = time.time()\n",
    "    return end-start\n",
    "\n",
    "numbers = [0, 5000, 10000 ,20000, 35000, 45000, 50000, 60000, 75000, 85000, 100000]\n",
    "\n",
    "times_extend = [time_extend(n) for n in numbers]\n",
    "times_append = [time_append(n) for n in numbers]\n",
    "\n",
    "ax1 = plt.subplot(111)\n",
    "ax1.plot(numbers, times_extend, color='magenta', label = \"extend\")\n",
    "ax1.plot(numbers, times_append, color=\"lawngreen\", label = \"append\")\n",
    "ax1.set_title(\" \")\n",
    "ax1.legend()\n",
    "ax1.set_xlabel(\"elements\")\n",
    "ax1.set_ylabel(\"time\")\n",
    "\n",
    "plt.show()"
   ]
  },
  {
   "cell_type": "markdown",
   "metadata": {},
   "source": [
    "Zad. 5"
   ]
  },
  {
   "cell_type": "code",
   "execution_count": 7,
   "metadata": {},
   "outputs": [],
   "source": [
    "class Queue:\n",
    "    DEFAULT_CAPACITY = 10\n",
    "    \n",
    "    def __init__(self):\n",
    "        self._data = [None]*Queue.DEFAULT_CAPACITY\n",
    "        self._size = 0\n",
    "        self._front = 0\n",
    "        \n",
    "    def __len__(self):\n",
    "        return self._size\n",
    "    \n",
    "    def is_empty(self):\n",
    "        return self._size == 0\n",
    "    \n",
    "    def first(self):\n",
    "        if self.is_empty():\n",
    "            raise Empty('Queue is empty')\n",
    "        return self._data[self._front]\n",
    "    \n",
    "    def dequeue(self):\n",
    "        if self.is_empty():\n",
    "            raise Empty('Queue is empty')\n",
    "        if self._size <= 2*len(self._data):\n",
    "            self._resize(int(len(self._data)/2))\n",
    "        value = self._data[self._front]\n",
    "        self._data[self._front] = None\n",
    "        self._front = (self._front+1)%len(self._data)\n",
    "        self._size -= 1\n",
    "        return value\n",
    "    \n",
    "    def enqueue(self,e):\n",
    "        if self._size == len(self._data):\n",
    "            self._resize(2*len(self._data))\n",
    "        avail = (self._front + self._size)%len(self._data)\n",
    "        self._data[avail] = e\n",
    "        self._size += 1\n",
    "        \n",
    "    def _resize(self,cap):\n",
    "        old = self._data\n",
    "        self._data = [None]*cap\n",
    "        walk = self._front\n",
    "        for k in range(self._size): # only existing elements\n",
    "            self._data[k] = old[walk]\n",
    "            walk = (1 + walk)%len(old)\n",
    "        self._front = 0    \n",
    "\n",
    "    def __str__(self):\n",
    "        return str(self._data)"
   ]
  },
  {
   "cell_type": "code",
   "execution_count": 9,
   "metadata": {},
   "outputs": [
    {
     "name": "stdout",
     "output_type": "stream",
     "text": [
      "[None, None, None, None, None, None, None, None, None, None]\n",
      "0\n",
      "[1, 2, None, None, None, None, None, None, None, None]\n",
      "2\n",
      "[None, 2, None, None, None]\n",
      "1\n",
      "[None, None]\n",
      "0\n",
      "[1, 2, 3, None]\n",
      "[1, 2, 3, 4, 5, None, None, None]\n"
     ]
    }
   ],
   "source": [
    "Q = Queue()\n",
    "print(Q)\n",
    "print(len(Q))\n",
    "\n",
    "Q.enqueue(1)\n",
    "Q.enqueue(2)\n",
    "print(Q)\n",
    "print(len(Q))\n",
    "\n",
    "Q.dequeue()\n",
    "print(Q)\n",
    "print(len(Q))\n",
    "\n",
    "Q.dequeue()\n",
    "print(Q)\n",
    "print(len(Q))\n",
    "\n",
    "Q.enqueue(1)\n",
    "Q.enqueue(2)\n",
    "Q.enqueue(3)\n",
    "print(Q)\n",
    "\n",
    "Q.enqueue(4)\n",
    "Q.enqueue(5)\n",
    "print(Q)"
   ]
  },
  {
   "cell_type": "code",
   "execution_count": 8,
   "metadata": {},
   "outputs": [
    {
     "ename": "Empty",
     "evalue": "Queue is empty",
     "output_type": "error",
     "traceback": [
      "\u001b[1;31m---------------------------------------------------------------------------\u001b[0m",
      "\u001b[1;31mEmpty\u001b[0m                                     Traceback (most recent call last)",
      "\u001b[1;32mc:\\Users\\igorh\\algorytmy i struktury danych\\lista3.ipynb Komórka 19\u001b[0m in \u001b[0;36m<cell line: 2>\u001b[1;34m()\u001b[0m\n\u001b[0;32m      <a href='vscode-notebook-cell:/c%3A/Users/igorh/algorytmy%20i%20struktury%20danych/lista3.ipynb#X50sZmlsZQ%3D%3D?line=0'>1</a>\u001b[0m Q1\u001b[39m=\u001b[39mQueue()\n\u001b[1;32m----> <a href='vscode-notebook-cell:/c%3A/Users/igorh/algorytmy%20i%20struktury%20danych/lista3.ipynb#X50sZmlsZQ%3D%3D?line=1'>2</a>\u001b[0m Q1\u001b[39m.\u001b[39;49mdequeue()\n",
      "\u001b[1;32mc:\\Users\\igorh\\algorytmy i struktury danych\\lista3.ipynb Komórka 19\u001b[0m in \u001b[0;36mQueue.dequeue\u001b[1;34m(self)\u001b[0m\n\u001b[0;32m     <a href='vscode-notebook-cell:/c%3A/Users/igorh/algorytmy%20i%20struktury%20danych/lista3.ipynb#X50sZmlsZQ%3D%3D?line=19'>20</a>\u001b[0m \u001b[39mdef\u001b[39;00m \u001b[39mdequeue\u001b[39m(\u001b[39mself\u001b[39m):\n\u001b[0;32m     <a href='vscode-notebook-cell:/c%3A/Users/igorh/algorytmy%20i%20struktury%20danych/lista3.ipynb#X50sZmlsZQ%3D%3D?line=20'>21</a>\u001b[0m     \u001b[39mif\u001b[39;00m \u001b[39mself\u001b[39m\u001b[39m.\u001b[39mis_empty():\n\u001b[1;32m---> <a href='vscode-notebook-cell:/c%3A/Users/igorh/algorytmy%20i%20struktury%20danych/lista3.ipynb#X50sZmlsZQ%3D%3D?line=21'>22</a>\u001b[0m         \u001b[39mraise\u001b[39;00m Empty(\u001b[39m'\u001b[39m\u001b[39mQueue is empty\u001b[39m\u001b[39m'\u001b[39m)\n\u001b[0;32m     <a href='vscode-notebook-cell:/c%3A/Users/igorh/algorytmy%20i%20struktury%20danych/lista3.ipynb#X50sZmlsZQ%3D%3D?line=22'>23</a>\u001b[0m     \u001b[39mif\u001b[39;00m \u001b[39mself\u001b[39m\u001b[39m.\u001b[39m_size \u001b[39m<\u001b[39m\u001b[39m=\u001b[39m \u001b[39m2\u001b[39m\u001b[39m*\u001b[39m\u001b[39mlen\u001b[39m(\u001b[39mself\u001b[39m\u001b[39m.\u001b[39m_data):\n\u001b[0;32m     <a href='vscode-notebook-cell:/c%3A/Users/igorh/algorytmy%20i%20struktury%20danych/lista3.ipynb#X50sZmlsZQ%3D%3D?line=23'>24</a>\u001b[0m         \u001b[39mself\u001b[39m\u001b[39m.\u001b[39m_resize(\u001b[39mint\u001b[39m(\u001b[39mlen\u001b[39m(\u001b[39mself\u001b[39m\u001b[39m.\u001b[39m_data)\u001b[39m/\u001b[39m\u001b[39m2\u001b[39m))\n",
      "\u001b[1;31mEmpty\u001b[0m: Queue is empty"
     ]
    }
   ],
   "source": [
    "Q1=Queue()\n",
    "Q1.dequeue()"
   ]
  },
  {
   "cell_type": "markdown",
   "metadata": {},
   "source": [
    "Zad. 6"
   ]
  },
  {
   "cell_type": "code",
   "execution_count": 9,
   "metadata": {},
   "outputs": [],
   "source": [
    "class Deque:\n",
    "    DEFAULT_CAPACITY = 5\n",
    "    def __init__(self):\n",
    "        self._data = [None]*Deque.DEFAULT_CAPACITY\n",
    "        self._size = 0\n",
    "        self._left = 0  # front\n",
    "        self._right = 0  # rear\n",
    "\n",
    "    def __len__(self):\n",
    "        return self._size\n",
    "\n",
    "    def is_empty(self):\n",
    "        return self._size == 0\n",
    "\n",
    "    def first(self):\n",
    "        if self.is_empty():\n",
    "            raise Empty('DQueue is empty')\n",
    "        return self._data[self._left]\n",
    "\n",
    "    def last(self):\n",
    "        if self.is_empty():\n",
    "            raise Empty('DQueue is empty')\n",
    "        return self._data[self._right-1] \n",
    "\n",
    "    def delete_first(self):\n",
    "        if self.is_empty():\n",
    "            raise Empty('DQueue is empty')\n",
    "        value = self._data[self._left]\n",
    "        self._data[self._left] = None\n",
    "        self._left = (self._left+1)%len(self._data)\n",
    "        self._size -= 1\n",
    "        return value\n",
    "\n",
    "    def delete_last(self):\n",
    "        if self.is_empty():\n",
    "            raise Empty('DQueue is empty')\n",
    "        if self._right==0:\n",
    "            self._right = len(self._data)-1\n",
    "        else:\n",
    "            self._right = self._right -1 \n",
    "        value = self._data[self._right]\n",
    "        self._data[self._right] = None\n",
    "        self._size -= 1\n",
    "        return value\n",
    "    \n",
    "    def add_last(self,e):\n",
    "        if self._size == len(self._data):\n",
    "            self._resize(2*len(self._data))\n",
    "        self._data[self._right] = e\n",
    "        self._right = (self._right+1)%len(self._data)\n",
    "        self._size += 1\n",
    "\n",
    "    def add_first(self,e):\n",
    "        if self._size == len(self._data):\n",
    "            self._resize(2*len(self._data))\n",
    "        if self._left==0:\n",
    "            self._left = len(self._data)-1\n",
    "        else:\n",
    "            self._left = self._left - 1 \n",
    "        self._data[self._left] = e\n",
    "        self._size += 1\n",
    "\n",
    "    def _resize(self,cap):\n",
    "        old = self._data\n",
    "        self._data = [None]*cap\n",
    "        walk = self._left\n",
    "        for k in range(self._size): # only existing elements\n",
    "            self._data[k] = old[walk]\n",
    "            walk = (1 + walk)%len(old)\n",
    "        self._left = 0\n",
    "        self._right = self._size\n",
    "    \n",
    "    def __str__(self):\n",
    "        return str(self._data)"
   ]
  },
  {
   "cell_type": "code",
   "execution_count": 4,
   "metadata": {},
   "outputs": [],
   "source": [
    "# przykład z wykładu - funkcja sprawdzająca czy wyraz jest palindromem\n",
    "def is_palindrome(word):\n",
    "    D = Deque()\n",
    "    for ch in word:\n",
    "        D.add_last(ch)\n",
    "    still_equal = True\n",
    "    while len(D)>1 and still_equal:\n",
    "        first = D.delete_first()\n",
    "        last = D.delete_last()\n",
    "        if first != last:\n",
    "            still_equal = False\n",
    "    return still_equal"
   ]
  },
  {
   "cell_type": "code",
   "execution_count": 5,
   "metadata": {},
   "outputs": [
    {
     "name": "stdout",
     "output_type": "stream",
     "text": [
      "[5, None, None, None, None]\n",
      "[5, None, None, None, 3]\n",
      "[5, None, None, 7, 3]\n",
      "D.first:  7\n",
      "D.delete_last  5\n",
      "len(D):  2\n",
      "D.is_empty(): False\n",
      "czy hanna jest palindromem:  False\n",
      "czy radar jest palindromem:  True\n"
     ]
    }
   ],
   "source": [
    "D = Deque()\n",
    "D.add_last(5)\n",
    "print(D)\n",
    "D.add_first(3)\n",
    "print(D)\n",
    "D.add_first(7)\n",
    "print(D)\n",
    "print(\"D.first: \", D.first())\n",
    "print(\"D.delete_last \", D.delete_last())\n",
    "print(\"len(D): \", len(D))\n",
    "print(\"D.is_empty():\", D.is_empty())\n",
    "\n",
    "slowo = 'hanna'\n",
    "print(f\"czy {slowo} jest palindromem: \", is_palindrome(slowo))\n",
    "slowo1 = 'radar'\n",
    "print(f\"czy {slowo1} jest palindromem: \", is_palindrome(slowo1))"
   ]
  },
  {
   "cell_type": "code",
   "execution_count": 71,
   "metadata": {},
   "outputs": [
    {
     "name": "stdout",
     "output_type": "stream",
     "text": [
      "[1, 1, 1, 1, 2, 2, None, None, None, None]\n",
      "1\n",
      "2\n"
     ]
    }
   ],
   "source": [
    "A=Deque()\n",
    "A.add_last(1)\n",
    "A.add_last(1)\n",
    "A.add_last(1)\n",
    "A.add_last(1)\n",
    "A.add_last(1)\n",
    "A.delete_first()\n",
    "A.add_last(2)\n",
    "A.add_last(2)\n",
    "print(A)\n",
    "print(A.first())\n",
    "print(A.last())"
   ]
  },
  {
   "cell_type": "code",
   "execution_count": 10,
   "metadata": {},
   "outputs": [
    {
     "ename": "Empty",
     "evalue": "DQueue is empty",
     "output_type": "error",
     "traceback": [
      "\u001b[1;31m---------------------------------------------------------------------------\u001b[0m",
      "\u001b[1;31mEmpty\u001b[0m                                     Traceback (most recent call last)",
      "\u001b[1;32mc:\\Users\\igorh\\algorytmy i struktury danych\\lista3.ipynb Komórka 25\u001b[0m in \u001b[0;36m<cell line: 2>\u001b[1;34m()\u001b[0m\n\u001b[0;32m      <a href='vscode-notebook-cell:/c%3A/Users/igorh/algorytmy%20i%20struktury%20danych/lista3.ipynb#X51sZmlsZQ%3D%3D?line=0'>1</a>\u001b[0m B\u001b[39m=\u001b[39mDeque()\n\u001b[1;32m----> <a href='vscode-notebook-cell:/c%3A/Users/igorh/algorytmy%20i%20struktury%20danych/lista3.ipynb#X51sZmlsZQ%3D%3D?line=1'>2</a>\u001b[0m B\u001b[39m.\u001b[39;49mdelete_first()\n",
      "\u001b[1;32mc:\\Users\\igorh\\algorytmy i struktury danych\\lista3.ipynb Komórka 25\u001b[0m in \u001b[0;36mDeque.delete_first\u001b[1;34m(self)\u001b[0m\n\u001b[0;32m     <a href='vscode-notebook-cell:/c%3A/Users/igorh/algorytmy%20i%20struktury%20danych/lista3.ipynb#X51sZmlsZQ%3D%3D?line=24'>25</a>\u001b[0m \u001b[39mdef\u001b[39;00m \u001b[39mdelete_first\u001b[39m(\u001b[39mself\u001b[39m):\n\u001b[0;32m     <a href='vscode-notebook-cell:/c%3A/Users/igorh/algorytmy%20i%20struktury%20danych/lista3.ipynb#X51sZmlsZQ%3D%3D?line=25'>26</a>\u001b[0m     \u001b[39mif\u001b[39;00m \u001b[39mself\u001b[39m\u001b[39m.\u001b[39mis_empty():\n\u001b[1;32m---> <a href='vscode-notebook-cell:/c%3A/Users/igorh/algorytmy%20i%20struktury%20danych/lista3.ipynb#X51sZmlsZQ%3D%3D?line=26'>27</a>\u001b[0m         \u001b[39mraise\u001b[39;00m Empty(\u001b[39m'\u001b[39m\u001b[39mDQueue is empty\u001b[39m\u001b[39m'\u001b[39m)\n\u001b[0;32m     <a href='vscode-notebook-cell:/c%3A/Users/igorh/algorytmy%20i%20struktury%20danych/lista3.ipynb#X51sZmlsZQ%3D%3D?line=27'>28</a>\u001b[0m     value \u001b[39m=\u001b[39m \u001b[39mself\u001b[39m\u001b[39m.\u001b[39m_data[\u001b[39mself\u001b[39m\u001b[39m.\u001b[39m_left]\n\u001b[0;32m     <a href='vscode-notebook-cell:/c%3A/Users/igorh/algorytmy%20i%20struktury%20danych/lista3.ipynb#X51sZmlsZQ%3D%3D?line=28'>29</a>\u001b[0m     \u001b[39mself\u001b[39m\u001b[39m.\u001b[39m_data[\u001b[39mself\u001b[39m\u001b[39m.\u001b[39m_left] \u001b[39m=\u001b[39m \u001b[39mNone\u001b[39;00m\n",
      "\u001b[1;31mEmpty\u001b[0m: DQueue is empty"
     ]
    }
   ],
   "source": [
    "B=Deque()\n",
    "B.delete_first()"
   ]
  },
  {
   "cell_type": "markdown",
   "metadata": {},
   "source": [
    "zad. 7"
   ]
  },
  {
   "cell_type": "code",
   "execution_count": 13,
   "metadata": {},
   "outputs": [],
   "source": [
    "class Stack:\n",
    "    def __init__(self):\n",
    "        self._data = [] #nowy pusty stos\n",
    "        \n",
    "    def __len__(self):\n",
    "        return len(self._data)\n",
    "    \n",
    "    def is_empty(self):\n",
    "        return self._data == []\n",
    "    \n",
    "    def push(self,e):\n",
    "        self._data.append(e)\n",
    "        \n",
    "    def top(self):\n",
    "        if self.is_empty():\n",
    "            raise Empty('Stack is empty')\n",
    "        return self._data[-1]\n",
    "    \n",
    "    def pop(self):\n",
    "        if self.is_empty():\n",
    "            raise Empty('Stack is empty')\n",
    "        return self._data.pop()        \n",
    "\n",
    "    def last(self):\n",
    "        return self._data[len(self._data)-1]\n",
    "\n",
    "    def __str__(self):\n",
    "        return str(self._data)\n",
    "\n",
    "\n",
    "# Funkcja check_html bazuje na dwóch stosach. Pierwszy z nich (s) odpowiada za sprawdzenie czy \n",
    "# każdy znacznik <.> ma swoje domknięcie </.>. Drugi (brackets) sprawdza czy każdy \"<\" ma odpowiadający \">\". \n",
    "# Składnia będzie poprawna, gdy oba stosy po wykonaniu programu będą puste.\n",
    "\n",
    "def ignore_comments(list):\n",
    "    \"\"\"Deletes html comments from list for further analysys\n",
    "\n",
    "    Args:\n",
    "        list (list): list of signs read from html file\n",
    "\n",
    "    Returns:\n",
    "        [list]: list of signs without comments\n",
    "    \"\"\"\n",
    "    start_com = [i for i in range(len(list)) if list[i:i+4]==[\"<\",\"!\", \"-\", \"-\"]]\n",
    "    stop_com = [i+3 for i in range(len(list)) if list[i:i+3]==[ \"-\", \"-\", \">\"]]\n",
    "    stop_com.insert(0,0)\n",
    "    start_com.append(len(list))\n",
    "    temp_list = []\n",
    "    \n",
    "    for i in range(len(start_com)):\n",
    "        temp_list += list[stop_com[i]:start_com[i]] \n",
    "    return temp_list\n",
    "\n",
    "def check_html(html_file):\n",
    "    \"\"\"Checks if every opening tag has prper closing tag and angle brackets are balanced.\n",
    "\n",
    "    Args:\n",
    "        html_file (str): name of html file\n",
    "\n",
    "    Returns:\n",
    "        (bool): True if everything is balanced, otherwise False\n",
    "    \"\"\"\n",
    "    s = Stack()\n",
    "    no_closure = [\"area\", \"base\", \"embed\", \"param\",\"keygen\",\"menuitem\", \"source\", \"track\", \"wbr\",\n",
    "                    \"!DOCTYPE\",\"br\",\"meta\", \"link\", \"img\",\"col\", \"command\",\"hr\",\"input\"]\n",
    "\n",
    "    with open(html_file,'r', encoding=\"utf-8\") as f:\n",
    "        t = list(f.read())\n",
    "    \n",
    "    t1= ignore_comments(t)\n",
    "    brackets = Stack()\n",
    "    for i in range(len(t1)):\n",
    "        if t1[i] == \"<\":\n",
    "            brackets.push(\"<\")\n",
    "            i+=1\n",
    "            content = \"\"\n",
    "            while t1[i] != \">\":\n",
    "                content += t1[i]\n",
    "                i+=1\n",
    "            content = content.split(\" \")[0]\n",
    "            if s.is_empty() and (content not in no_closure):\n",
    "                s.push(content)\n",
    "            else:\n",
    "                if content in no_closure:\n",
    "                    pass\n",
    "                elif content == \"/\" + s.last():\n",
    "                    s.pop()\n",
    "                else:\n",
    "                    s.push(content)\n",
    "        elif t1[i] == \">\":\n",
    "            if brackets.last() == \"<\":\n",
    "                brackets.pop()\n",
    "    if s.is_empty() and brackets.is_empty() :\n",
    "        print(\"everything is ok\")\n",
    "        return True\n",
    "    elif brackets.is_empty():\n",
    "        print(\"Tag is not closed!\")\n",
    "        return False\n",
    "    else:\n",
    "        print(\"Missing '<' or '>' sign\")\n",
    "        return False"
   ]
  },
  {
   "cell_type": "code",
   "execution_count": 72,
   "metadata": {},
   "outputs": [
    {
     "name": "stdout",
     "output_type": "stream",
     "text": [
      "Tag is not closed!\n"
     ]
    },
    {
     "data": {
      "text/plain": [
       "False"
      ]
     },
     "execution_count": 72,
     "metadata": {},
     "output_type": "execute_result"
    }
   ],
   "source": [
    "check_html(\"C:\\\\Users\\\\igorh\\\\algorytmy i struktury danych\\\\test.html\")"
   ]
  },
  {
   "cell_type": "markdown",
   "metadata": {},
   "source": [
    "zad. 8"
   ]
  },
  {
   "cell_type": "code",
   "execution_count": 14,
   "metadata": {},
   "outputs": [],
   "source": [
    "def permutations_stack(items):\n",
    "    \"\"\"\n",
    "    Non recursive function to permutations of list using stack\n",
    "\n",
    "    Parameters:\n",
    "    items(list) - list of elements\n",
    "\n",
    "    Returns:\n",
    "     list - list of permutations\n",
    "    \"\"\"\n",
    "    items = list(items)\n",
    "    n = len(items)\n",
    "    s = Stack()\n",
    "    i = 0\n",
    "    perm = []\n",
    "    perms=[]\n",
    "    while i < n:\n",
    "        perm.append(items.pop(0))\n",
    "        s.push(i)\n",
    "        i = 0\n",
    "        \n",
    "        if len(items) == 0:\n",
    "            perms.append(list(perm))\n",
    "            \n",
    "            while i == len(items) and len(s)!=0:\n",
    "                i = s.pop()\n",
    "                items.append(perm.pop())\n",
    "                i += 1\n",
    "    return perms"
   ]
  },
  {
   "cell_type": "code",
   "execution_count": 15,
   "metadata": {},
   "outputs": [
    {
     "data": {
      "text/plain": [
       "[['A', 'B', 'C'],\n",
       " ['A', 'C', 'B'],\n",
       " ['B', 'C', 'A'],\n",
       " ['B', 'A', 'C'],\n",
       " ['C', 'A', 'B'],\n",
       " ['C', 'B', 'A']]"
      ]
     },
     "execution_count": 15,
     "metadata": {},
     "output_type": "execute_result"
    }
   ],
   "source": [
    "permutations_stack([\"A\",\"B\",\"C\"])"
   ]
  },
  {
   "cell_type": "code",
   "execution_count": 73,
   "metadata": {},
   "outputs": [
    {
     "data": {
      "text/plain": [
       "[[1, 2, 3, 4],\n",
       " [1, 2, 4, 3],\n",
       " [1, 3, 4, 2],\n",
       " [1, 3, 2, 4],\n",
       " [1, 4, 2, 3],\n",
       " [1, 4, 3, 2],\n",
       " [2, 3, 4, 1],\n",
       " [2, 3, 1, 4],\n",
       " [2, 4, 1, 3],\n",
       " [2, 4, 3, 1],\n",
       " [2, 1, 3, 4],\n",
       " [2, 1, 4, 3],\n",
       " [3, 4, 1, 2],\n",
       " [3, 4, 2, 1],\n",
       " [3, 1, 2, 4],\n",
       " [3, 1, 4, 2],\n",
       " [3, 2, 4, 1],\n",
       " [3, 2, 1, 4],\n",
       " [4, 1, 2, 3],\n",
       " [4, 1, 3, 2],\n",
       " [4, 2, 3, 1],\n",
       " [4, 2, 1, 3],\n",
       " [4, 3, 1, 2],\n",
       " [4, 3, 2, 1]]"
      ]
     },
     "execution_count": 73,
     "metadata": {},
     "output_type": "execute_result"
    }
   ],
   "source": [
    "permutations_stack([1,2,3,4])"
   ]
  },
  {
   "cell_type": "markdown",
   "metadata": {},
   "source": [
    "Zad. 9"
   ]
  },
  {
   "cell_type": "code",
   "execution_count": 16,
   "metadata": {},
   "outputs": [],
   "source": [
    "class Queue1:\n",
    "    DEFAULT_CAPACITY = 10\n",
    "    def __init__(self):\n",
    "        self._data = [None]*Queue1.DEFAULT_CAPACITY\n",
    "        self._size = 0\n",
    "        self._front = 0\n",
    "    \n",
    "    def __len__(self):\n",
    "        return self._size\n",
    "\n",
    "    def is_empty(self):\n",
    "        return self._size == 0\n",
    "\n",
    "    def first(self):\n",
    "        if self.is_empty():\n",
    "            raise Empty('Queue is empty')\n",
    "        return self._data[self._front]\n",
    "\n",
    "    def dequeue(self):\n",
    "        if self.is_empty():\n",
    "            raise Empty('Queue is empty')\n",
    "        value = self._data[self._front]\n",
    "        self._data[self._front] = None\n",
    "        self._front = (self._front+1)%len(self._data)\n",
    "        self._size -= 1\n",
    "        return value\n",
    "\n",
    "    def enqueue(self,e):\n",
    "        if self._size == len(self._data):\n",
    "            self._resize(2*len(self._data))\n",
    "        avail = (self._front + self._size)%len(self._data)\n",
    "        self._data[avail] = e\n",
    "        self._size += 1\n",
    "\n",
    "    def _resize(self,cap):\n",
    "        old = self._data\n",
    "        self._data = [None]*cap\n",
    "        walk = self._front\n",
    "        for k in range(self._size):\n",
    "            self._data[k] = old[walk]\n",
    "            walk = (1 + walk)%len(old)\n",
    "        self._front = 0  \n",
    "\n",
    "    def __str__(self):\n",
    "        return str(self._data)      \n",
    "\n",
    "# implementacja stosu przy użyciu jednej kolejki\n",
    "\n",
    "class Stack_Q:\n",
    "    def __init__(self):\n",
    "        self._Q = Queue1()   # nowy pusty stos jako kolejka \n",
    "        \n",
    "    def __len__(self):\n",
    "        return len(self._Q)\n",
    "    \n",
    "    def is_empty(self):\n",
    "        return self._Q.is_empty()\n",
    "    \n",
    "    def push(self,e):\n",
    "        # wstawiam do kolejki, zlozonosci O(1) \n",
    "        self._Q.enqueue(e)   \n",
    "        \n",
    "    def top(self):  \n",
    "        # zlozonosci O(n), gdzie n to liczba elementow na stosie \n",
    "        # ogólnie O(n)*złozonosc wstawienia do kolejki\n",
    "        if self.is_empty():\n",
    "            raise Empty('Stack is empty')\n",
    "        for i in range(len(self._Q)-1):    \n",
    "            # usuwamy z kolejki i wstawiamy wszystkie elementy oprócz ostatniego wstawionego do kolejki  \n",
    "            self._Q.enqueue(self._Q.dequeue())\n",
    "        x = self._Q.first()     # ostatnio wstawiony element \n",
    "        self._Q.enqueue(self._Q.dequeue())      # wstawiam go znowu\n",
    "        return x        # zwracam element zapamietany\n",
    "    \n",
    "    def pop(self):\n",
    "        # zlozonosci O(n), gdzie n to liczba elementow na stosie\n",
    "        # to samo co wczesniej, ale nie wstawiamy tego ostatniego tylko go usuwam z kolejki\n",
    "        if self.is_empty():\n",
    "            raise Empty('Stack is empty')\n",
    "        for i in range(len(self._Q)-1):\n",
    "            self._Q.enqueue(self._Q.dequeue())\n",
    "        return self._Q.dequeue()\n",
    "    def __str__(self):\n",
    "        return str(self._Q)"
   ]
  },
  {
   "cell_type": "code",
   "execution_count": 76,
   "metadata": {},
   "outputs": [
    {
     "name": "stdout",
     "output_type": "stream",
     "text": [
      "[5, None, None, None, None, None, None, None, None, None]\n",
      "[5, 3, None, None, None, None, None, None, None, None]\n",
      "len(S) =  2\n",
      "S.pop() =  3\n",
      "[None, None, 5, None, None, None, None, None, None, None]\n",
      "S.is_empty =  False\n",
      "S.top() =  5\n",
      "S.pop() =  5\n",
      "[None, None, None, None, None, None, None, None, None, None]\n",
      "S.is_empty =  True\n",
      "[None, None, None, None, 1, None, None, None, None, None]\n",
      "1\n",
      "python\n",
      "n, o, h, t, y, p, "
     ]
    }
   ],
   "source": [
    "S = Stack_Q()\n",
    "S.push(5)\n",
    "print(S)\n",
    "S.push(3)\n",
    "print(S)\n",
    "print(\"len(S) = \", len(S))\n",
    "print(\"S.pop() = \", S.pop())\n",
    "print(S)\n",
    "print(\"S.is_empty = \", S.is_empty())\n",
    "print(\"S.top() = \", S.top())\n",
    "print(\"S.pop() = \", S.pop())\n",
    "print(S)\n",
    "print(\"S.is_empty = \", S.is_empty())\n",
    "S.push(1)\n",
    "print(S)\n",
    "print(S.top())\n",
    "# sprawdznie przez zastosowanie funkcji z wykladu\n",
    "def reverse_sequence(seq):\n",
    "    print(seq)\n",
    "    SQ = Stack_Q()\n",
    "    for i in seq:\n",
    "        SQ.push(i)\n",
    "        \n",
    "    for _ in range(len(SQ)):\n",
    "        print(SQ.pop(),end=\", \")\n",
    "\n",
    "reverse_sequence('python')"
   ]
  },
  {
   "cell_type": "code",
   "execution_count": 17,
   "metadata": {},
   "outputs": [
    {
     "ename": "Empty",
     "evalue": "Stack is empty",
     "output_type": "error",
     "traceback": [
      "\u001b[1;31m---------------------------------------------------------------------------\u001b[0m",
      "\u001b[1;31mEmpty\u001b[0m                                     Traceback (most recent call last)",
      "\u001b[1;32mc:\\Users\\igorh\\algorytmy i struktury danych\\lista3.ipynb Komórka 36\u001b[0m in \u001b[0;36m<cell line: 2>\u001b[1;34m()\u001b[0m\n\u001b[0;32m      <a href='vscode-notebook-cell:/c%3A/Users/igorh/algorytmy%20i%20struktury%20danych/lista3.ipynb#X53sZmlsZQ%3D%3D?line=0'>1</a>\u001b[0m S1\u001b[39m=\u001b[39mStack_Q()\n\u001b[1;32m----> <a href='vscode-notebook-cell:/c%3A/Users/igorh/algorytmy%20i%20struktury%20danych/lista3.ipynb#X53sZmlsZQ%3D%3D?line=1'>2</a>\u001b[0m S1\u001b[39m.\u001b[39;49mtop()\n",
      "\u001b[1;32mc:\\Users\\igorh\\algorytmy i struktury danych\\lista3.ipynb Komórka 36\u001b[0m in \u001b[0;36mStack_Q.top\u001b[1;34m(self)\u001b[0m\n\u001b[0;32m     <a href='vscode-notebook-cell:/c%3A/Users/igorh/algorytmy%20i%20struktury%20danych/lista3.ipynb#X53sZmlsZQ%3D%3D?line=62'>63</a>\u001b[0m \u001b[39mdef\u001b[39;00m \u001b[39mtop\u001b[39m(\u001b[39mself\u001b[39m):  \n\u001b[0;32m     <a href='vscode-notebook-cell:/c%3A/Users/igorh/algorytmy%20i%20struktury%20danych/lista3.ipynb#X53sZmlsZQ%3D%3D?line=63'>64</a>\u001b[0m     \u001b[39m# zlozonosci O(n), gdzie n to liczba elementow na stosie \u001b[39;00m\n\u001b[0;32m     <a href='vscode-notebook-cell:/c%3A/Users/igorh/algorytmy%20i%20struktury%20danych/lista3.ipynb#X53sZmlsZQ%3D%3D?line=64'>65</a>\u001b[0m     \u001b[39m# ogólnie O(n)*złozonosc wstawienia do kolejki\u001b[39;00m\n\u001b[0;32m     <a href='vscode-notebook-cell:/c%3A/Users/igorh/algorytmy%20i%20struktury%20danych/lista3.ipynb#X53sZmlsZQ%3D%3D?line=65'>66</a>\u001b[0m     \u001b[39mif\u001b[39;00m \u001b[39mself\u001b[39m\u001b[39m.\u001b[39mis_empty():\n\u001b[1;32m---> <a href='vscode-notebook-cell:/c%3A/Users/igorh/algorytmy%20i%20struktury%20danych/lista3.ipynb#X53sZmlsZQ%3D%3D?line=66'>67</a>\u001b[0m         \u001b[39mraise\u001b[39;00m Empty(\u001b[39m'\u001b[39m\u001b[39mStack is empty\u001b[39m\u001b[39m'\u001b[39m)\n\u001b[0;32m     <a href='vscode-notebook-cell:/c%3A/Users/igorh/algorytmy%20i%20struktury%20danych/lista3.ipynb#X53sZmlsZQ%3D%3D?line=67'>68</a>\u001b[0m     \u001b[39mfor\u001b[39;00m i \u001b[39min\u001b[39;00m \u001b[39mrange\u001b[39m(\u001b[39mlen\u001b[39m(\u001b[39mself\u001b[39m\u001b[39m.\u001b[39m_Q)\u001b[39m-\u001b[39m\u001b[39m1\u001b[39m):    \n\u001b[0;32m     <a href='vscode-notebook-cell:/c%3A/Users/igorh/algorytmy%20i%20struktury%20danych/lista3.ipynb#X53sZmlsZQ%3D%3D?line=68'>69</a>\u001b[0m         \u001b[39m# usuwamy z kolejki i wstawiamy wszystkie elementy oprócz ostatniego wstawionego do kolejki  \u001b[39;00m\n\u001b[0;32m     <a href='vscode-notebook-cell:/c%3A/Users/igorh/algorytmy%20i%20struktury%20danych/lista3.ipynb#X53sZmlsZQ%3D%3D?line=69'>70</a>\u001b[0m         \u001b[39mself\u001b[39m\u001b[39m.\u001b[39m_Q\u001b[39m.\u001b[39menqueue(\u001b[39mself\u001b[39m\u001b[39m.\u001b[39m_Q\u001b[39m.\u001b[39mdequeue())\n",
      "\u001b[1;31mEmpty\u001b[0m: Stack is empty"
     ]
    }
   ],
   "source": [
    "S1=Stack_Q()\n",
    "S1.top()"
   ]
  },
  {
   "cell_type": "code",
   "execution_count": 18,
   "metadata": {},
   "outputs": [
    {
     "ename": "Empty",
     "evalue": "Stack is empty",
     "output_type": "error",
     "traceback": [
      "\u001b[1;31m---------------------------------------------------------------------------\u001b[0m",
      "\u001b[1;31mEmpty\u001b[0m                                     Traceback (most recent call last)",
      "\u001b[1;32mc:\\Users\\igorh\\algorytmy i struktury danych\\lista3.ipynb Komórka 37\u001b[0m in \u001b[0;36m<cell line: 2>\u001b[1;34m()\u001b[0m\n\u001b[0;32m      <a href='vscode-notebook-cell:/c%3A/Users/igorh/algorytmy%20i%20struktury%20danych/lista3.ipynb#X54sZmlsZQ%3D%3D?line=0'>1</a>\u001b[0m S2\u001b[39m=\u001b[39mStack_Q()\n\u001b[1;32m----> <a href='vscode-notebook-cell:/c%3A/Users/igorh/algorytmy%20i%20struktury%20danych/lista3.ipynb#X54sZmlsZQ%3D%3D?line=1'>2</a>\u001b[0m S2\u001b[39m.\u001b[39;49mpop()\n",
      "\u001b[1;32mc:\\Users\\igorh\\algorytmy i struktury danych\\lista3.ipynb Komórka 37\u001b[0m in \u001b[0;36mStack_Q.pop\u001b[1;34m(self)\u001b[0m\n\u001b[0;32m     <a href='vscode-notebook-cell:/c%3A/Users/igorh/algorytmy%20i%20struktury%20danych/lista3.ipynb#X54sZmlsZQ%3D%3D?line=74'>75</a>\u001b[0m \u001b[39mdef\u001b[39;00m \u001b[39mpop\u001b[39m(\u001b[39mself\u001b[39m):\n\u001b[0;32m     <a href='vscode-notebook-cell:/c%3A/Users/igorh/algorytmy%20i%20struktury%20danych/lista3.ipynb#X54sZmlsZQ%3D%3D?line=75'>76</a>\u001b[0m     \u001b[39m# zlozonosci O(n), gdzie n to liczba elementow na stosie\u001b[39;00m\n\u001b[0;32m     <a href='vscode-notebook-cell:/c%3A/Users/igorh/algorytmy%20i%20struktury%20danych/lista3.ipynb#X54sZmlsZQ%3D%3D?line=76'>77</a>\u001b[0m     \u001b[39m# to samo co wczesniej, ale nie wstawiamy tego ostatniego tylko go usuwam z kolejki\u001b[39;00m\n\u001b[0;32m     <a href='vscode-notebook-cell:/c%3A/Users/igorh/algorytmy%20i%20struktury%20danych/lista3.ipynb#X54sZmlsZQ%3D%3D?line=77'>78</a>\u001b[0m     \u001b[39mif\u001b[39;00m \u001b[39mself\u001b[39m\u001b[39m.\u001b[39mis_empty():\n\u001b[1;32m---> <a href='vscode-notebook-cell:/c%3A/Users/igorh/algorytmy%20i%20struktury%20danych/lista3.ipynb#X54sZmlsZQ%3D%3D?line=78'>79</a>\u001b[0m         \u001b[39mraise\u001b[39;00m Empty(\u001b[39m'\u001b[39m\u001b[39mStack is empty\u001b[39m\u001b[39m'\u001b[39m)\n\u001b[0;32m     <a href='vscode-notebook-cell:/c%3A/Users/igorh/algorytmy%20i%20struktury%20danych/lista3.ipynb#X54sZmlsZQ%3D%3D?line=79'>80</a>\u001b[0m     \u001b[39mfor\u001b[39;00m i \u001b[39min\u001b[39;00m \u001b[39mrange\u001b[39m(\u001b[39mlen\u001b[39m(\u001b[39mself\u001b[39m\u001b[39m.\u001b[39m_Q)\u001b[39m-\u001b[39m\u001b[39m1\u001b[39m):\n\u001b[0;32m     <a href='vscode-notebook-cell:/c%3A/Users/igorh/algorytmy%20i%20struktury%20danych/lista3.ipynb#X54sZmlsZQ%3D%3D?line=80'>81</a>\u001b[0m         \u001b[39mself\u001b[39m\u001b[39m.\u001b[39m_Q\u001b[39m.\u001b[39menqueue(\u001b[39mself\u001b[39m\u001b[39m.\u001b[39m_Q\u001b[39m.\u001b[39mdequeue())\n",
      "\u001b[1;31mEmpty\u001b[0m: Stack is empty"
     ]
    }
   ],
   "source": [
    "S2=Stack_Q()\n",
    "S2.pop()"
   ]
  },
  {
   "cell_type": "markdown",
   "metadata": {},
   "source": [
    "Zad. 10"
   ]
  },
  {
   "cell_type": "code",
   "execution_count": 23,
   "metadata": {},
   "outputs": [],
   "source": [
    "class Queue2:\n",
    "    def __init__(self):\n",
    "        self.s1 = Stack()\n",
    "        self.s2 = Stack()\n",
    "\n",
    "    def __len__(self):\n",
    "        return len(self.s1)+len(self.s2)\n",
    "        \n",
    "    def enQueue(self, x):\n",
    "        self.s1.push(x)\n",
    "\n",
    "    def deQueue(self):\n",
    "        if len(self.s1) == 0 and len(self.s2) == 0:\n",
    "            raise Empty(\"Queue is empty\")\n",
    "\n",
    "        elif len(self.s2) == 0 and len(self.s1) > 0:\n",
    "            while len(self.s1):\n",
    "                temp = self.s1.pop()\n",
    "                self.s2.push(temp)\n",
    "            return self.s2.pop()\n",
    "\n",
    "        else:\n",
    "            return self.s2.pop()"
   ]
  },
  {
   "cell_type": "code",
   "execution_count": 24,
   "metadata": {},
   "outputs": [
    {
     "name": "stdout",
     "output_type": "stream",
     "text": [
      "3\n",
      "1\n",
      "2\n",
      "3\n"
     ]
    }
   ],
   "source": [
    "q = Queue2()\n",
    "q.enQueue(1)\n",
    "q.enQueue(2)\n",
    "q.enQueue(3)\n",
    "print(len(q))\n",
    "print(q.deQueue())\n",
    "print(q.deQueue())\n",
    "print(q.deQueue())"
   ]
  },
  {
   "cell_type": "code",
   "execution_count": 31,
   "metadata": {},
   "outputs": [
    {
     "name": "stdout",
     "output_type": "stream",
     "text": [
      "1\n",
      "2\n",
      "3\n",
      "0\n"
     ]
    }
   ],
   "source": [
    "q1 = Queue2()\n",
    "q1.enQueue(1)\n",
    "q1.enQueue(2)\n",
    "print(q1.deQueue())\n",
    "\n",
    "q1.enQueue(3)\n",
    "print(q1.deQueue())\n",
    "print(q1.deQueue())\n",
    "\n",
    "print(len(q1))"
   ]
  },
  {
   "cell_type": "code",
   "execution_count": 22,
   "metadata": {},
   "outputs": [
    {
     "ename": "Empty",
     "evalue": "Queue is empty",
     "output_type": "error",
     "traceback": [
      "\u001b[1;31m---------------------------------------------------------------------------\u001b[0m",
      "\u001b[1;31mEmpty\u001b[0m                                     Traceback (most recent call last)",
      "\u001b[1;32mc:\\Users\\igorh\\algorytmy i struktury danych\\lista3.ipynb Komórka 41\u001b[0m in \u001b[0;36m<cell line: 2>\u001b[1;34m()\u001b[0m\n\u001b[0;32m      <a href='vscode-notebook-cell:/c%3A/Users/igorh/algorytmy%20i%20struktury%20danych/lista3.ipynb#X55sZmlsZQ%3D%3D?line=0'>1</a>\u001b[0m Q \u001b[39m=\u001b[39m Queue2()\n\u001b[1;32m----> <a href='vscode-notebook-cell:/c%3A/Users/igorh/algorytmy%20i%20struktury%20danych/lista3.ipynb#X55sZmlsZQ%3D%3D?line=1'>2</a>\u001b[0m Q\u001b[39m.\u001b[39;49mdeQueue()\n",
      "\u001b[1;32mc:\\Users\\igorh\\algorytmy i struktury danych\\lista3.ipynb Komórka 41\u001b[0m in \u001b[0;36mQueue2.deQueue\u001b[1;34m(self)\u001b[0m\n\u001b[0;32m      <a href='vscode-notebook-cell:/c%3A/Users/igorh/algorytmy%20i%20struktury%20danych/lista3.ipynb#X55sZmlsZQ%3D%3D?line=8'>9</a>\u001b[0m \u001b[39mdef\u001b[39;00m \u001b[39mdeQueue\u001b[39m(\u001b[39mself\u001b[39m):\n\u001b[0;32m     <a href='vscode-notebook-cell:/c%3A/Users/igorh/algorytmy%20i%20struktury%20danych/lista3.ipynb#X55sZmlsZQ%3D%3D?line=9'>10</a>\u001b[0m     \u001b[39mif\u001b[39;00m \u001b[39mlen\u001b[39m(\u001b[39mself\u001b[39m\u001b[39m.\u001b[39ms1) \u001b[39m==\u001b[39m \u001b[39m0\u001b[39m \u001b[39mand\u001b[39;00m \u001b[39mlen\u001b[39m(\u001b[39mself\u001b[39m\u001b[39m.\u001b[39ms2) \u001b[39m==\u001b[39m \u001b[39m0\u001b[39m:\n\u001b[1;32m---> <a href='vscode-notebook-cell:/c%3A/Users/igorh/algorytmy%20i%20struktury%20danych/lista3.ipynb#X55sZmlsZQ%3D%3D?line=10'>11</a>\u001b[0m         \u001b[39mraise\u001b[39;00m Empty(\u001b[39m\"\u001b[39m\u001b[39mQueue is empty\u001b[39m\u001b[39m\"\u001b[39m)\n\u001b[0;32m     <a href='vscode-notebook-cell:/c%3A/Users/igorh/algorytmy%20i%20struktury%20danych/lista3.ipynb#X55sZmlsZQ%3D%3D?line=12'>13</a>\u001b[0m     \u001b[39melif\u001b[39;00m \u001b[39mlen\u001b[39m(\u001b[39mself\u001b[39m\u001b[39m.\u001b[39ms2) \u001b[39m==\u001b[39m \u001b[39m0\u001b[39m \u001b[39mand\u001b[39;00m \u001b[39mlen\u001b[39m(\u001b[39mself\u001b[39m\u001b[39m.\u001b[39ms1) \u001b[39m>\u001b[39m \u001b[39m0\u001b[39m:\n\u001b[0;32m     <a href='vscode-notebook-cell:/c%3A/Users/igorh/algorytmy%20i%20struktury%20danych/lista3.ipynb#X55sZmlsZQ%3D%3D?line=13'>14</a>\u001b[0m         \u001b[39mwhile\u001b[39;00m \u001b[39mlen\u001b[39m(\u001b[39mself\u001b[39m\u001b[39m.\u001b[39ms1):\n",
      "\u001b[1;31mEmpty\u001b[0m: Queue is empty"
     ]
    }
   ],
   "source": [
    "Q = Queue2()\n",
    "Q.deQueue()"
   ]
  }
 ],
 "metadata": {
  "kernelspec": {
   "display_name": "Python 3.9.6 64-bit",
   "language": "python",
   "name": "python3"
  },
  "language_info": {
   "codemirror_mode": {
    "name": "ipython",
    "version": 3
   },
   "file_extension": ".py",
   "mimetype": "text/x-python",
   "name": "python",
   "nbconvert_exporter": "python",
   "pygments_lexer": "ipython3",
   "version": "3.9.6"
  },
  "orig_nbformat": 4,
  "vscode": {
   "interpreter": {
    "hash": "7dbed71eb168dab4b180f4f18a2f12893cb0c323dce2ee86b2d2a82e5c2ad5a1"
   }
  }
 },
 "nbformat": 4,
 "nbformat_minor": 2
}
